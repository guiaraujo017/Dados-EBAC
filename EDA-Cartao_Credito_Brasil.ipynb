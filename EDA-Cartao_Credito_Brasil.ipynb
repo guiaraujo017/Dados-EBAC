{
 "cells": [
  {
   "cell_type": "code",
   "execution_count": 1,
   "id": "75b1f1be",
   "metadata": {
    "_cell_guid": "b1076dfc-b9ad-4769-8c92-a6c4dae69d19",
    "_uuid": "8f2839f25d086af736a60e9eeb907d3b93b6e0e5",
    "execution": {
     "iopub.execute_input": "2024-11-07T20:35:01.904952Z",
     "iopub.status.busy": "2024-11-07T20:35:01.904568Z",
     "iopub.status.idle": "2024-11-07T20:35:02.766658Z",
     "shell.execute_reply": "2024-11-07T20:35:02.765600Z"
    },
    "papermill": {
     "duration": 0.871316,
     "end_time": "2024-11-07T20:35:02.769169",
     "exception": false,
     "start_time": "2024-11-07T20:35:01.897853",
     "status": "completed"
    },
    "tags": []
   },
   "outputs": [],
   "source": [
    "# This Python 3 environment comes with many helpful analytics libraries installed\n",
    "# It is defined by the kaggle/python Docker image: https://github.com/kaggle/docker-python\n",
    "# For example, here's several helpful packages to load\n",
    "\n",
    "import numpy as np # linear algebra\n",
    "import pandas as pd # data processing, CSV file I/O (e.g. pd.read_csv)\n",
    "\n",
    "# Input data files are available in the read-only \"../input/\" directory\n",
    "# For example, running this (by clicking run or pressing Shift+Enter) will list all files under the input directory\n",
    "\n",
    "import os\n",
    "for dirname, _, filenames in os.walk('/kaggle/input'):\n",
    "    for filename in filenames:\n",
    "        print(os.path.join(dirname, filename))\n",
    "\n",
    "# You can write up to 20GB to the current directory (/kaggle/working/) that gets preserved as output when you create a version using \"Save & Run All\" \n",
    "# You can also write temporary files to /kaggle/temp/, but they won't be saved outside of the current session"
   ]
  },
  {
   "cell_type": "markdown",
   "id": "69ae601e",
   "metadata": {
    "papermill": {
     "duration": 0.004402,
     "end_time": "2024-11-07T20:35:02.778767",
     "exception": false,
     "start_time": "2024-11-07T20:35:02.774365",
     "status": "completed"
    },
    "tags": []
   },
   "source": [
    "# ****Projeto SQL Curso EBAC****"
   ]
  },
  {
   "cell_type": "markdown",
   "id": "7e7f814b",
   "metadata": {
    "papermill": {
     "duration": 0.004389,
     "end_time": "2024-11-07T20:35:02.787782",
     "exception": false,
     "start_time": "2024-11-07T20:35:02.783393",
     "status": "completed"
    },
    "tags": []
   },
   "source": [
    "O Dataset escolhido está disponível no [link](https://www.kaggle.com/datasets/sufyant/brazilian-real-bank-dataset) . São informações de gasto de cartão de crédito de clientes brasileiros entre janeiro de 2019 e abril de 2020.\n",
    "\n",
    "Eu retirei algumas colunas, que penso não ser tão relevantes para o presente projeto, para facilitar a nossa análise.\n",
    "\n",
    "****Descrição dos dados****:\n",
    "\n",
    "* id = id cliente\n",
    "* safra_abertura = número da agência\n",
    "* cidade = cidade da agência\n",
    "* estado = estado da agência\n",
    "* idade = idade do cliente\n",
    "* sexo = gênero do cliente\n",
    "* limite_total = limite do cartão de crédito\n",
    "* limite_disp = limite ainda disponível do cartão\n",
    "* valor = da compra\n",
    "* grupo_estabelecimento = tipo de estabelecimento da compra\n",
    "* SERVIÇO = qualquer serviço além de restaurante\n",
    "* FAMARCIAS = farmácia\n",
    "* Online (modifiquei o nome original para melhor compreensão) = compras online\n",
    "* ARTIGOS ELETRO = eletrônicos\n",
    "* VAREJO = loja de varejo\n",
    "* LOJA DE DEPART = loja de departamento\n",
    "* VESTUARIO = roupas\n",
    "* HOSP E CLINICA = gastos médicos\n",
    "* SEM RAMO = não especificado\n",
    "* SUPERMERCADOS = mercado\n",
    "* MAT CONSTRUCAO = material de construção\n",
    "* POSTO DE GAS = posto de gasolina\n",
    "* RESTAURANTE = restaurante\n",
    "* CIA AEREAS = passagem aérea\n",
    "* MOVEIS E DECOR = móveis e decoração\n",
    "* JOALHERIA = jóias\n",
    "* TRANS FINANC = transferência de valores\n",
    "* AGENCIA DE TUR = agência de turismo\n",
    "* HOTEIS = hoteis\n",
    "* AUTO PEÇAS = peças de carros/mecânico \n",
    "* cidade_estabelecimento = cidade que a compra foi feita\n",
    "* pais_estabelecimento = país que a compra foi feita\n",
    "\n",
    "\n",
    "Os dados foram trabalhados no ****AWS Athena**** e ****S3 Bucket****."
   ]
  },
  {
   "cell_type": "markdown",
   "id": "afc5a72b",
   "metadata": {
    "papermill": {
     "duration": 0.004357,
     "end_time": "2024-11-07T20:35:02.796697",
     "exception": false,
     "start_time": "2024-11-07T20:35:02.792340",
     "status": "completed"
    },
    "tags": []
   },
   "source": [
    "# ****Exploração e Análise de dados****"
   ]
  },
  {
   "cell_type": "markdown",
   "id": "574120b9",
   "metadata": {
    "papermill": {
     "duration": 0.0042,
     "end_time": "2024-11-07T20:35:02.805371",
     "exception": false,
     "start_time": "2024-11-07T20:35:02.801171",
     "status": "completed"
    },
    "tags": []
   },
   "source": [
    "Para enterdemos melhor o Dataset que temos em mão é necessário explorarmos os dados disponíveis. Utilizarei queries no AWS Athena com objetivo de amostrar o material que estamos trabalhando.\n",
    "\n",
    "****Quantas linhas de informação temos nesse Dataset?**** \n",
    "\n",
    "* *Query 1*: select count(*) from cartao_credito"
   ]
  },
  {
   "cell_type": "markdown",
   "id": "95e99bd3",
   "metadata": {
    "papermill": {
     "duration": 0.004339,
     "end_time": "2024-11-07T20:35:02.814168",
     "exception": false,
     "start_time": "2024-11-07T20:35:02.809829",
     "status": "completed"
    },
    "tags": []
   },
   "source": [
    "![](https://github.com/guiaraujo017/ImagensEbacSQL/blob/main/query1.jpg?raw=true)"
   ]
  },
  {
   "cell_type": "markdown",
   "id": "5ec76d68",
   "metadata": {
    "papermill": {
     "duration": 0.004187,
     "end_time": "2024-11-07T20:35:02.822767",
     "exception": false,
     "start_time": "2024-11-07T20:35:02.818580",
     "status": "completed"
    },
    "tags": []
   },
   "source": [
    "O nosso Dataset tem 4955 linhas de dados, podemos traduzir isso para 4955 transações. Como projeto de estudo é um Dataset relativamente robusto, onde nós podemos tirar alguns insights interessantes para tentarmos entender padrões de consumo.\n",
    "\n",
    "****Vamos selecionar apenas as 10 primerias linhas para ter uma visualização da nossa base de dados.**** \n",
    "\n",
    "*Query 2*: SELECT * FROM \"default\".\"cartao_credito\" limit 10"
   ]
  },
  {
   "cell_type": "markdown",
   "id": "8dee1f13",
   "metadata": {
    "papermill": {
     "duration": 0.00529,
     "end_time": "2024-11-07T20:35:02.832446",
     "exception": false,
     "start_time": "2024-11-07T20:35:02.827156",
     "status": "completed"
    },
    "tags": []
   },
   "source": [
    "![](https://github.com/guiaraujo017/ImagensEbacSQL/blob/main/query2%20novo.jpg?raw=true)"
   ]
  },
  {
   "cell_type": "markdown",
   "id": "272769c5",
   "metadata": {
    "papermill": {
     "duration": 0.004264,
     "end_time": "2024-11-07T20:35:02.841203",
     "exception": false,
     "start_time": "2024-11-07T20:35:02.836939",
     "status": "completed"
    },
    "tags": []
   },
   "source": [
    "****Quais os tipos de dados que temos?****\n",
    "\n",
    "*Query 3*: describe cartao_credito"
   ]
  },
  {
   "cell_type": "markdown",
   "id": "401392e1",
   "metadata": {
    "papermill": {
     "duration": 0.004347,
     "end_time": "2024-11-07T20:35:02.850113",
     "exception": false,
     "start_time": "2024-11-07T20:35:02.845766",
     "status": "completed"
    },
    "tags": []
   },
   "source": [
    "![](https://github.com/guiaraujo017/ImagensEbacSQL/blob/main/query3.jpg?raw=true)"
   ]
  },
  {
   "cell_type": "markdown",
   "id": "5f7d4f18",
   "metadata": {
    "papermill": {
     "duration": 0.004249,
     "end_time": "2024-11-07T20:35:02.858950",
     "exception": false,
     "start_time": "2024-11-07T20:35:02.854701",
     "status": "completed"
    },
    "tags": []
   },
   "source": [
    "Talvez seja interessante analisar todas as colunas não numéricas.\n",
    "\n",
    "****Primeiro vamos analisar quais as cidades dos correntistas.**** \n",
    "\n",
    "*Query 4*: select distinct cidade from cartao_credito\n",
    "\n",
    "\n",
    "![](https://github.com/guiaraujo017/ImagensEbacSQL/blob/main/query4.jpg?raw=true)\n",
    "\n",
    "\n",
    "De acordo com os resultados podemos ver que tirando a cidade do Rio de Janeiro, todas as agências são do estado de São Paulo, tal informação já elimina uma query que seria ****select distinct cidade from cartao_credito****, contudo já sabemos que os estados são São Paulo e Rio de Janeiro. "
   ]
  },
  {
   "cell_type": "markdown",
   "id": "40aeb122",
   "metadata": {
    "papermill": {
     "duration": 0.004318,
     "end_time": "2024-11-07T20:35:02.867735",
     "exception": false,
     "start_time": "2024-11-07T20:35:02.863417",
     "status": "completed"
    },
    "tags": []
   },
   "source": [
    "****Vamos verificar quantas entradas tem cada cidade****\n",
    "\n",
    "*Query 5*: select cidade, count (cidade) as distinct_cidade \n",
    "from cartao_credito \n",
    "group by cidade\n",
    "\n",
    "![](https://github.com/guiaraujo017/ImagensEbacSQL/blob/main/query5.jpg?raw=true)\n",
    "\n",
    "\n",
    "\n",
    "A cidade de São Paulo e Rio de Janeiro são as cidades mais representadas em nossos dados"
   ]
  },
  {
   "cell_type": "markdown",
   "id": "4e61c010",
   "metadata": {
    "papermill": {
     "duration": 0.004183,
     "end_time": "2024-11-07T20:35:02.876352",
     "exception": false,
     "start_time": "2024-11-07T20:35:02.872169",
     "status": "completed"
    },
    "tags": []
   },
   "source": [
    "****Agora vamos verificar os tipos de estabelecimento****\n",
    "\n",
    "*Query 6*: select distinct grupo_estabelecimento from cartao_credito\n",
    "\n",
    "\n",
    "![](https://github.com/guiaraujo017/ImagensEbacSQL/blob/main/query6.jpg?raw=true)\n",
    "\n",
    "Pela primeira vez no dataset podemos verificar a existência de dados nulos. ****Vamos verificar quantos valores temos de cada categoria, incluindo quantos nulos nós temos na base de dados****\n",
    "\n",
    "*Query 7*: select grupo_estabelecimento, count (grupo_estabelecimento) as distinct_grupo_estabelecimento \n",
    "from cartao_credito \n",
    "group by grupo_estabelecimento\n",
    "\n",
    "![](https://github.com/guiaraujo017/ImagensEbacSQL/blob/main/query7.jpg?raw=true)\n",
    "\n",
    "Serviço e restaurante são as categorias de estabelecimento que mais aparecem em nosso Dataset, com apenas 4 valores nulos. Em relação ao totalm os 4 valores nulos não atrapalham nossa análise. "
   ]
  },
  {
   "cell_type": "markdown",
   "id": "c41aea62",
   "metadata": {
    "papermill": {
     "duration": 0.004251,
     "end_time": "2024-11-07T20:35:02.885011",
     "exception": false,
     "start_time": "2024-11-07T20:35:02.880760",
     "status": "completed"
    },
    "tags": []
   },
   "source": [
    "****A próxima coluna a ser analisada é a cidade onde o cartão foi gasto****\n",
    "\n",
    "*Query 8*: select distinct cidade_estabelecimento from cartao_credito\n",
    "\n",
    "![](https://github.com/guiaraujo017/ImagensEbacSQL/blob/main/query8.jpg?raw=true)\n",
    "\n",
    "Infelizmente a lista de cidades é muito extensa e não é possível colocar a imagem da lista, contudo é possível verificar que temos campos com nomes aleatórios nas cidades. ****Para provar que o número de ciades únicas é extenso, utilizei outra query****.\n",
    "\n",
    "*Query 9*: select count(distinct cidade_estabelecimento) from cartao_credito\n",
    "\n",
    "\n",
    "![](https://github.com/guiaraujo017/ImagensEbacSQL/blob/main/query9.jpg?raw=true)"
   ]
  },
  {
   "cell_type": "markdown",
   "id": "f7f0d567",
   "metadata": {
    "papermill": {
     "duration": 0.004493,
     "end_time": "2024-11-07T20:35:02.894356",
     "exception": false,
     "start_time": "2024-11-07T20:35:02.889863",
     "status": "completed"
    },
    "tags": []
   },
   "source": [
    "****Podemos checar quais foram as cidades que mais houve gastos do cartão****\n",
    "\n",
    "*Query 10*: select cidade_estabelecimento, count (cidade_estabelecimento) as distinct_cidade_estabelecimento from cartao_credito group by cidade_estabelecimento\n",
    "\n",
    "![](https://github.com/guiaraujo017/ImagensEbacSQL/blob/main/query19.jpg?raw=true)\n",
    "\n",
    "Como era de se esperar, São Paulo e Rio de Janeiro são as cidades da maioria das transações."
   ]
  },
  {
   "cell_type": "markdown",
   "id": "2b0f83b0",
   "metadata": {
    "papermill": {
     "duration": 0.004403,
     "end_time": "2024-11-07T20:35:02.903404",
     "exception": false,
     "start_time": "2024-11-07T20:35:02.899001",
     "status": "completed"
    },
    "tags": []
   },
   "source": [
    "Para finalizar os dados não numéricos, ****vamos analisar em quais países foram feitas compras****\n",
    "\n",
    "*Query 11*: select distinct pais_estabelecimento from cartao_credito\n",
    "\n",
    "\n",
    "![](https://github.com/guiaraujo017/ImagensEbacSQL/blob/main/query10.jpg?raw=true)\n",
    "\n",
    "O Brasil não é o único país de origem do estabelecimento, três entradas chamam atenção: OH, que leva a crer que seja o estado de Ohio nos Estados Unidos da América, SP que está como país e também o fato de termos valores nulos nessa coluna. ****Vejamos quantas entradas temos de cada país, incluindo o nulo****\n",
    "\n",
    "\n",
    "*Query 12*: select pais_estabelecimento, count (pais_estabelecimento) as distinct_pais_estabelecimento\n",
    "from cartao_credito \n",
    "group by pais_estabelecimento\n",
    "\n",
    "\n",
    "![](https://github.com/guiaraujo017/ImagensEbacSQL/blob/main/query11.jpg?raw=true)\n",
    "\n",
    "\n",
    "O Brasil é o país de quase todas as transações, seguido de surpreendetemente valores nulos e só em terceiro lugar Estados Unidos da América.\n",
    "\n",
    "\n",
    "![](https://github.com/guiaraujo017/ImagensEbacSQL/blob/main/IMG-20241107-WA0017.jpg?raw=true)\n",
    "\n",
    "\n"
   ]
  },
  {
   "cell_type": "markdown",
   "id": "cabc7026",
   "metadata": {
    "papermill": {
     "duration": 0.004471,
     "end_time": "2024-11-07T20:35:02.912491",
     "exception": false,
     "start_time": "2024-11-07T20:35:02.908020",
     "status": "completed"
    },
    "tags": []
   },
   "source": [
    "****Vamos analisar o número de Homens e Mulheres entre os clientes****\n",
    "\n",
    "*Query 13*: select count(*), sexo from cartao_credito group by sexo\n",
    "\n",
    "\n",
    "![](https://github.com/guiaraujo017/ImagensEbacSQL/blob/main/query12.jpg?raw=true)\n",
    "\n",
    "A diferença entre homens e mulheres é mínima, para ilustrar melhor vamos fazer outro gráfico\n",
    "\n",
    "![](https://github.com/guiaraujo017/ImagensEbacSQL/blob/main/sexo.jpg?raw=true)\n",
    "\n",
    "Como podemos ver as mulheres são 53% da nossa base de dados e homens 47%, não temos valores nulos.\n"
   ]
  },
  {
   "cell_type": "markdown",
   "id": "c6185a5e",
   "metadata": {
    "papermill": {
     "duration": 0.004357,
     "end_time": "2024-11-07T20:35:02.921467",
     "exception": false,
     "start_time": "2024-11-07T20:35:02.917110",
     "status": "completed"
    },
    "tags": []
   },
   "source": [
    "****O próximo passo é analisar a idade atrelada ao sexo****\n",
    "\n",
    "*Query 14*: select avg(idade) as media_idade, min(idade) as min_idade, max(idade) as max_idade, sexo from cartao_credito group by sexo\n",
    "\n",
    "\n",
    "![](https://github.com/guiaraujo017/ImagensEbacSQL/blob/main/query13.jpg?raw=true)\n",
    "\n",
    "\n",
    "As idades são bem parecidas entre os sexos, talvez a maior discrepância é a idade mínima das mulheres com 20 anos e 27 para homens. \n",
    "\n",
    "\n",
    "****Maior e menor valor****\n",
    "\n",
    "*Query 15*: select min(valor) as menor_compra, max(valor) as maior_compra from cartao_credito\n",
    "\n",
    "\n",
    "![](https://github.com/guiaraujo017/ImagensEbacSQL/blob/main/query14.jpg?raw=true)\n",
    "\n",
    "Esse valor mínimo deve ter sido algum erro na hora do pagamento ou apenas uma checagem online do cartão de crédito, ****vamos verificar mais informações dessa transação****\n",
    "\n",
    "*Query 16*: select * from cartao_credito\n",
    " where valor = (select min(valor) from cartao_credito)\n",
    "\n",
    "\n",
    " ![](https://github.com/guiaraujo017/ImagensEbacSQL/blob/main/query15.jpg?raw=true)\n",
    "\n",
    " Essa transação está relacionada a algum estabelecimento de serviço na cidade de São Paulo, se fosse online explicaria o valor. Não podemos inferir muita coisa com essas informações. \n",
    "\n",
    " ****Vamos verificar mais informações da maior transação****\n",
    "\n",
    " *Query 17*: select * from cartao_credito\n",
    " where valor = (select max(valor) from cartao_credito)\n",
    "\n",
    " ![](https://github.com/guiaraujo017/ImagensEbacSQL/blob/main/query16.jpg?raw=true)\n",
    "\n",
    " Esse valor de 14618.36 na categoria de passagem aérea faz muito mais sentido, considerando que pode ser uma passagem de classe executiva para o exterior. Podemos ver também que o cliente, naturalmente, tem um limite alto no cartão de crédito de 40 mil reais e ainda, no momento da compra, tinha o limite disponível de 21748 reais, levando em conta a idade podemos inferir que é um empresário. "
   ]
  },
  {
   "cell_type": "markdown",
   "id": "4e64722e",
   "metadata": {
    "papermill": {
     "duration": 0.004366,
     "end_time": "2024-11-07T20:35:02.930494",
     "exception": false,
     "start_time": "2024-11-07T20:35:02.926128",
     "status": "completed"
    },
    "tags": []
   },
   "source": [
    "****Pode ser interessante verificar as maiores compras por categoria****\n",
    "\n",
    "*Query 18*: select grupo_estabelecimento, max(valor)\n",
    "from cartao_credito\n",
    "group by grupo_estabelecimento\n",
    "\n",
    "\n",
    "![](https://github.com/guiaraujo017/ImagensEbacSQL/blob/main/query20.jpg?raw=true)\n",
    "\n",
    "Se desconsiderarmos o \"inexistente\", nós temos companhia aérea, restaurante e serviços como maiores gastos com cartão de crédito."
   ]
  },
  {
   "cell_type": "markdown",
   "id": "88ef3f25",
   "metadata": {
    "papermill": {
     "duration": 0.004327,
     "end_time": "2024-11-07T20:35:02.939504",
     "exception": false,
     "start_time": "2024-11-07T20:35:02.935177",
     "status": "completed"
    },
    "tags": []
   },
   "source": [
    "****Vamos verificar informações das 10 maiores compras****\n",
    "\n",
    "*Query 19*: select max(valor) as maior_compra,id, limite_total, limite_disp, sexo, idade, grupo_estabelecimento from cartao_credito \n",
    "group by id, limite_total, limite_disp, sexo, idade, grupo_estabelecimento order by max(valor) desc limit 10\n",
    "\n",
    "\n",
    "![](https://github.com/guiaraujo017/ImagensEbacSQL/blob/main/query17.jpg?raw=true)\n",
    "\n",
    "\n",
    "Como podemos ver, 6 das 10 maiores compras por cartão de crédito é do mesmo cliente, homem de 43 anos. Os maiores gastos são com passagem aérea. Podemos inferir que realmente é um empresário que viaja com certa frequência para gastar esses valores com passagem aérea. Dessas 10 maiores transações apenas 2 são de mulheres com mecânico e passagem aérea. \n",
    "\n",
    "Outra informação que podemos tirar da query é que o limite total tem influência no valor da compra, contudo temos alguns casos de limites menores com gastos maiores do que outros clientes com limite de crédito maior, como é o caso das mulheres. Será que tem alguma explicação para mulheres terem gastos altos com limites relativamente menores?"
   ]
  },
  {
   "cell_type": "markdown",
   "id": "94e91b15",
   "metadata": {
    "papermill": {
     "duration": 0.004347,
     "end_time": "2024-11-07T20:35:02.948412",
     "exception": false,
     "start_time": "2024-11-07T20:35:02.944065",
     "status": "completed"
    },
    "tags": []
   },
   "source": [
    "Já vimos que a diferença entre o maior valor gasto entre homens e mulheres é bem discrepante, mas será que na média também temos essa diferença? ****Vamos ver os valores gastos por sexo****\n",
    "\n",
    "*Query 20*: select max(valor) as maior_valor, avg(valor) as media_valor, min(valor) as min_valor, sexo from cartao_credito group by sexo\n",
    "\n",
    "\n",
    "![](https://github.com/guiaraujo017/ImagensEbacSQL/blob/main/query18.jpg?raw=true)\n",
    "\n",
    "\n",
    "A média de gastos também tende para os homens, provavelmente por causa das maiores transações serem de homens. "
   ]
  },
  {
   "cell_type": "markdown",
   "id": "fab6ae35",
   "metadata": {
    "papermill": {
     "duration": 0.004401,
     "end_time": "2024-11-07T20:35:02.957487",
     "exception": false,
     "start_time": "2024-11-07T20:35:02.953086",
     "status": "completed"
    },
    "tags": []
   },
   "source": [
    "****Uma última análise que podemos fazer é o limite máximo de crédito de acordo com o sexo****\n",
    "\n",
    "*Query 21*: select sexo, max(limite_total) as limite_total \n",
    "from cartao_credito\n",
    "group by sexo\n",
    "\n",
    "![](https://github.com/guiaraujo017/ImagensEbacSQL/blob/main/query21.jpg?raw=true)\n",
    "\n",
    "\n",
    "A diferença de limite do cartão de crédito é bem discrepante entre os sexos, sendo 40 mil para homens e 10.500 para mulheres. "
   ]
  },
  {
   "cell_type": "markdown",
   "id": "2a728ec2",
   "metadata": {
    "papermill": {
     "duration": 0.004736,
     "end_time": "2024-11-07T20:35:02.966697",
     "exception": false,
     "start_time": "2024-11-07T20:35:02.961961",
     "status": "completed"
    },
    "tags": []
   },
   "source": [
    "# ****Conclusão****"
   ]
  },
  {
   "cell_type": "markdown",
   "id": "d7915188",
   "metadata": {
    "papermill": {
     "duration": 0.004381,
     "end_time": "2024-11-07T20:35:02.975786",
     "exception": false,
     "start_time": "2024-11-07T20:35:02.971405",
     "status": "completed"
    },
    "tags": []
   },
   "source": [
    "Aguns pontos que sabemos analisando os dados:\n",
    "\n",
    "1. Esse banco estudado possui agência apenas no estado de São Paulo e Rio de Janeiro;\n",
    "2. A maior parte das agências ficam na cidade de São Paulo e Rio de Janeiro;\n",
    "3. As cidades com mais gastos são, mais uma vez, São Paulo e Rio de Janeiro; \n",
    "4. Os estabelecimentos onde o cartão é mais utilizado são: Serviço, Restaurante, Varejo e Supermercado;\n",
    "5. Os países com mais gastos, excluindo os valores nulos, são Brasil, Estados Unidos e Chile;\n",
    "6. Temos mais mulheres do que homens como clientes\n",
    "7. As idades entre sexo são bem parecidas entre 20 e 53 anos, a maior diferença está na idade mínima que é de 20 para mulheres e 27 para homens;\n",
    "8. Apesar de idades e número de clientes parecidos, os valores das transações possuem uma diferença considerável com as maiores transações sendo do sexo masculino e apenas 2 transações de mulheres no top 10;\n",
    "9. O maior valor gasto em cada categoria\n",
    "\n",
    "\n",
    "Essas informações podem ser valiosas para a empresa de cartão de crédito de diferente formas. Por exemplo, que tipo de benefício a empresa pode oferecer para cada tipo de cliente? para cada tipo de estabelecimento? É possível oferecer algum benefício para compras no exterior?\n",
    "\n",
    "Também é possível fazer um estudo para entender por qual motivo as mulheres gastam menos ou até mesmo por qual motivo possuem menos crédito. Uma campanha pode ser feita para atrair mulheres com maior poder de compra.\n",
    "\n",
    "Com essas informações é possível tomar decisões para consolidar áreas que estão bem estabelecidas, como o cliente homem e os gastos com serviços, contudo com esse estudo também é possível trabalhar em áreas que necessitam de mais atenção como clientes mulheres com maior poder de compras e uso do cartão no exterior por exemplo. "
   ]
  }
 ],
 "metadata": {
  "kaggle": {
   "accelerator": "none",
   "dataSources": [],
   "isGpuEnabled": false,
   "isInternetEnabled": true,
   "language": "python",
   "sourceType": "notebook"
  },
  "kernelspec": {
   "display_name": "Python 3",
   "language": "python",
   "name": "python3"
  },
  "language_info": {
   "codemirror_mode": {
    "name": "ipython",
    "version": 3
   },
   "file_extension": ".py",
   "mimetype": "text/x-python",
   "name": "python",
   "nbconvert_exporter": "python",
   "pygments_lexer": "ipython3",
   "version": "3.10.14"
  },
  "papermill": {
   "default_parameters": {},
   "duration": 4.160109,
   "end_time": "2024-11-07T20:35:03.399831",
   "environment_variables": {},
   "exception": null,
   "input_path": "__notebook__.ipynb",
   "output_path": "__notebook__.ipynb",
   "parameters": {},
   "start_time": "2024-11-07T20:34:59.239722",
   "version": "2.6.0"
  }
 },
 "nbformat": 4,
 "nbformat_minor": 5
}
